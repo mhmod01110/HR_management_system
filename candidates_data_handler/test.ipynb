{
 "cells": [
  {
   "cell_type": "code",
   "execution_count": 1,
   "metadata": {},
   "outputs": [
    {
     "name": "stdout",
     "output_type": "stream",
     "text": [
      "2024-11-19 11:44:40,657 INFO sqlalchemy.engine.Engine BEGIN (implicit)\n",
      "2024-11-19 11:44:40,659 INFO sqlalchemy.engine.Engine PRAGMA main.table_info(\"candidate_certificates\")\n",
      "2024-11-19 11:44:40,661 INFO sqlalchemy.engine.Engine [raw sql] ()\n",
      "2024-11-19 11:44:40,664 INFO sqlalchemy.engine.Engine PRAGMA main.table_info(\"candidate_qualifications\")\n",
      "2024-11-19 11:44:40,665 INFO sqlalchemy.engine.Engine [raw sql] ()\n",
      "2024-11-19 11:44:40,667 INFO sqlalchemy.engine.Engine PRAGMA main.table_info(\"candidate_skills\")\n",
      "2024-11-19 11:44:40,668 INFO sqlalchemy.engine.Engine [raw sql] ()\n",
      "2024-11-19 11:44:40,671 INFO sqlalchemy.engine.Engine PRAGMA main.table_info(\"candidates\")\n",
      "2024-11-19 11:44:40,672 INFO sqlalchemy.engine.Engine [raw sql] ()\n",
      "2024-11-19 11:44:40,674 INFO sqlalchemy.engine.Engine PRAGMA main.table_info(\"certificates\")\n",
      "2024-11-19 11:44:40,676 INFO sqlalchemy.engine.Engine [raw sql] ()\n",
      "2024-11-19 11:44:40,679 INFO sqlalchemy.engine.Engine PRAGMA main.table_info(\"qualifications\")\n",
      "2024-11-19 11:44:40,680 INFO sqlalchemy.engine.Engine [raw sql] ()\n",
      "2024-11-19 11:44:40,682 INFO sqlalchemy.engine.Engine PRAGMA main.table_info(\"skills\")\n",
      "2024-11-19 11:44:40,684 INFO sqlalchemy.engine.Engine [raw sql] ()\n",
      "2024-11-19 11:44:40,686 INFO sqlalchemy.engine.Engine COMMIT\n"
     ]
    }
   ],
   "source": [
    "from interface import *"
   ]
  },
  {
   "cell_type": "code",
   "execution_count": 4,
   "metadata": {},
   "outputs": [
    {
     "name": "stdout",
     "output_type": "stream",
     "text": [
      "2024-11-19 11:47:24,132 INFO sqlalchemy.engine.Engine SELECT candidates.id AS candidates_id, candidates.name AS candidates_name, candidates.email AS candidates_email, candidates.phone_num AS candidates_phone_num, candidates.experience_years AS candidates_experience_years \n",
      "FROM candidates \n",
      "WHERE candidates.email = ?\n",
      " LIMIT ? OFFSET ?\n",
      "2024-11-19 11:47:24,133 INFO sqlalchemy.engine.Engine [cached since 88.04s ago] ('sa2@gmail.com', 1, 0)\n",
      "2024-11-19 11:47:24,135 INFO sqlalchemy.engine.Engine SELECT candidates.id AS candidates_id, candidates.name AS candidates_name, candidates.email AS candidates_email, candidates.phone_num AS candidates_phone_num, candidates.experience_years AS candidates_experience_years \n",
      "FROM candidates \n",
      "WHERE candidates.phone_num = ?\n",
      " LIMIT ? OFFSET ?\n",
      "2024-11-19 11:47:24,136 INFO sqlalchemy.engine.Engine [cached since 88.03s ago] ('+20101011548', 1, 0)\n",
      "2024-11-19 11:47:24,138 INFO sqlalchemy.engine.Engine SELECT certificates.id AS certificates_id, certificates.name AS certificates_name \n",
      "FROM certificates \n",
      "WHERE certificates.name = ?\n",
      " LIMIT ? OFFSET ?\n",
      "2024-11-19 11:47:24,139 INFO sqlalchemy.engine.Engine [cached since 88.03s ago] ('MBA', 1, 0)\n",
      "2024-11-19 11:47:24,141 INFO sqlalchemy.engine.Engine SELECT certificates.id AS certificates_id, certificates.name AS certificates_name \n",
      "FROM certificates \n",
      "WHERE certificates.name = ?\n",
      " LIMIT ? OFFSET ?\n",
      "2024-11-19 11:47:24,142 INFO sqlalchemy.engine.Engine [cached since 88.03s ago] ('PHP', 1, 0)\n",
      "2024-11-19 11:47:24,145 INFO sqlalchemy.engine.Engine INSERT INTO candidates (name, email, phone_num, experience_years) VALUES (?, ?, ?, ?)\n",
      "2024-11-19 11:47:24,146 INFO sqlalchemy.engine.Engine [cached since 87.99s ago] ('Sayed2', 'sa2@gmail.com', '+20101011548', 5)\n",
      "2024-11-19 11:47:24,151 INFO sqlalchemy.engine.Engine INSERT INTO candidate_certificates (candidate_id, certificate_id) VALUES (?, ?)\n",
      "2024-11-19 11:47:24,152 INFO sqlalchemy.engine.Engine [cached since 87.98s ago] ((3, 1), (3, 2))\n",
      "2024-11-19 11:47:24,154 INFO sqlalchemy.engine.Engine SELECT qualifications.id AS qualifications_id, qualifications.name AS qualifications_name \n",
      "FROM qualifications \n",
      "WHERE qualifications.name = ?\n",
      " LIMIT ? OFFSET ?\n",
      "2024-11-19 11:47:24,155 INFO sqlalchemy.engine.Engine [cached since 87.98s ago] ('Hello', 1, 0)\n",
      "2024-11-19 11:47:24,156 INFO sqlalchemy.engine.Engine SELECT qualifications.id AS qualifications_id, qualifications.name AS qualifications_name \n",
      "FROM qualifications \n",
      "WHERE qualifications.name = ?\n",
      " LIMIT ? OFFSET ?\n",
      "2024-11-19 11:47:24,157 INFO sqlalchemy.engine.Engine [cached since 87.99s ago] ('Qual2', 1, 0)\n",
      "2024-11-19 11:47:24,161 INFO sqlalchemy.engine.Engine SELECT qualifications.id AS qualifications_id, qualifications.name AS qualifications_name \n",
      "FROM qualifications, candidate_qualifications \n",
      "WHERE ? = candidate_qualifications.candidate_id AND qualifications.id = candidate_qualifications.qualification_id\n",
      "2024-11-19 11:47:24,162 INFO sqlalchemy.engine.Engine [generated in 0.00103s] (3,)\n",
      "2024-11-19 11:47:24,165 INFO sqlalchemy.engine.Engine INSERT INTO candidate_qualifications (candidate_id, qualification_id) VALUES (?, ?)\n",
      "2024-11-19 11:47:24,166 INFO sqlalchemy.engine.Engine [generated in 0.00091s] ((3, 1), (3, 2))\n",
      "2024-11-19 11:47:24,169 INFO sqlalchemy.engine.Engine SELECT skills.id AS skills_id, skills.name AS skills_name \n",
      "FROM skills \n",
      "WHERE skills.name = ?\n",
      " LIMIT ? OFFSET ?\n",
      "2024-11-19 11:47:24,170 INFO sqlalchemy.engine.Engine [generated in 0.00113s] ('C', 1, 0)\n",
      "2024-11-19 11:47:24,173 INFO sqlalchemy.engine.Engine INSERT INTO skills (name) VALUES (?)\n",
      "2024-11-19 11:47:24,173 INFO sqlalchemy.engine.Engine [generated in 0.00078s] ('C',)\n",
      "2024-11-19 11:47:24,175 INFO sqlalchemy.engine.Engine COMMIT\n",
      "2024-11-19 11:47:24,185 INFO sqlalchemy.engine.Engine BEGIN (implicit)\n",
      "2024-11-19 11:47:24,186 INFO sqlalchemy.engine.Engine SELECT skills.id AS skills_id, skills.name AS skills_name \n",
      "FROM skills \n",
      "WHERE skills.name = ?\n",
      " LIMIT ? OFFSET ?\n",
      "2024-11-19 11:47:24,187 INFO sqlalchemy.engine.Engine [cached since 0.01753s ago] ('C++', 1, 0)\n",
      "2024-11-19 11:47:24,189 INFO sqlalchemy.engine.Engine INSERT INTO skills (name) VALUES (?)\n",
      "2024-11-19 11:47:24,190 INFO sqlalchemy.engine.Engine [cached since 0.01684s ago] ('C++',)\n",
      "2024-11-19 11:47:24,192 INFO sqlalchemy.engine.Engine COMMIT\n",
      "2024-11-19 11:47:24,202 INFO sqlalchemy.engine.Engine BEGIN (implicit)\n",
      "2024-11-19 11:47:24,204 INFO sqlalchemy.engine.Engine SELECT skills.id AS skills_id, skills.name AS skills_name \n",
      "FROM skills \n",
      "WHERE skills.name = ?\n",
      " LIMIT ? OFFSET ?\n",
      "2024-11-19 11:47:24,205 INFO sqlalchemy.engine.Engine [cached since 0.03579s ago] ('C#', 1, 0)\n",
      "2024-11-19 11:47:24,207 INFO sqlalchemy.engine.Engine INSERT INTO skills (name) VALUES (?)\n",
      "2024-11-19 11:47:24,208 INFO sqlalchemy.engine.Engine [cached since 0.03485s ago] ('C#',)\n",
      "2024-11-19 11:47:24,210 INFO sqlalchemy.engine.Engine COMMIT\n",
      "2024-11-19 11:47:24,222 INFO sqlalchemy.engine.Engine BEGIN (implicit)\n",
      "2024-11-19 11:47:24,228 INFO sqlalchemy.engine.Engine SELECT candidates.id AS candidates_id, candidates.name AS candidates_name, candidates.email AS candidates_email, candidates.phone_num AS candidates_phone_num, candidates.experience_years AS candidates_experience_years \n",
      "FROM candidates \n",
      "WHERE candidates.id = ?\n",
      "2024-11-19 11:47:24,230 INFO sqlalchemy.engine.Engine [generated in 0.00211s] (3,)\n",
      "2024-11-19 11:47:24,234 INFO sqlalchemy.engine.Engine SELECT skills.id AS skills_id, skills.name AS skills_name \n",
      "FROM skills, candidate_skills \n",
      "WHERE ? = candidate_skills.candidate_id AND skills.id = candidate_skills.skill_id\n",
      "2024-11-19 11:47:24,235 INFO sqlalchemy.engine.Engine [generated in 0.00159s] (3,)\n",
      "2024-11-19 11:47:24,242 INFO sqlalchemy.engine.Engine SELECT skills.id AS skills_id, skills.name AS skills_name \n",
      "FROM skills \n",
      "WHERE skills.id = ?\n",
      "2024-11-19 11:47:24,243 INFO sqlalchemy.engine.Engine [generated in 0.00178s] (1,)\n",
      "2024-11-19 11:47:24,246 INFO sqlalchemy.engine.Engine SELECT skills.id AS skills_id, skills.name AS skills_name \n",
      "FROM skills \n",
      "WHERE skills.id = ?\n",
      "2024-11-19 11:47:24,247 INFO sqlalchemy.engine.Engine [cached since 0.006055s ago] (2,)\n",
      "2024-11-19 11:47:24,251 INFO sqlalchemy.engine.Engine SELECT skills.id AS skills_id, skills.name AS skills_name \n",
      "FROM skills \n",
      "WHERE skills.id = ?\n",
      "2024-11-19 11:47:24,252 INFO sqlalchemy.engine.Engine [cached since 0.01058s ago] (3,)\n",
      "2024-11-19 11:47:24,256 INFO sqlalchemy.engine.Engine INSERT INTO candidate_skills (candidate_id, skill_id) VALUES (?, ?)\n",
      "2024-11-19 11:47:24,257 INFO sqlalchemy.engine.Engine [generated in 0.00172s] ((3, 1), (3, 2), (3, 3))\n",
      "2024-11-19 11:47:24,261 INFO sqlalchemy.engine.Engine COMMIT\n"
     ]
    },
    {
     "data": {
      "text/plain": [
       "<models.Candidate at 0x139bf6529d0>"
      ]
     },
     "execution_count": 4,
     "metadata": {},
     "output_type": "execute_result"
    }
   ],
   "source": [
    "create_candidate_interface(\"Sayed2\", \"sa2@gmail.com\", \"+20101011548\", 5, [\"MBA\", \"PHP\"], [\"Hello\", \"Qual2\"], [\"C\", \"C++\", \"C#\"])"
   ]
  },
  {
   "cell_type": "code",
   "execution_count": 6,
   "metadata": {},
   "outputs": [
    {
     "name": "stdout",
     "output_type": "stream",
     "text": [
      "2024-11-19 11:47:52,155 INFO sqlalchemy.engine.Engine SELECT candidates.id AS candidates_id, candidates.name AS candidates_name, candidates.email AS candidates_email, candidates.phone_num AS candidates_phone_num, candidates.experience_years AS candidates_experience_years \n",
      "FROM candidates\n",
      "2024-11-19 11:47:52,156 INFO sqlalchemy.engine.Engine [cached since 17.87s ago] ()\n",
      "[<models.Candidate object at 0x00000139C2090D10>, <models.Candidate object at 0x00000139BD539650>, <models.Candidate object at 0x00000139BF6529D0>]\n"
     ]
    }
   ],
   "source": [
    "\n",
    "cans = get_all_candidates_interface()\n",
    "print(cans)"
   ]
  },
  {
   "cell_type": "code",
   "execution_count": 7,
   "metadata": {},
   "outputs": [],
   "source": [
    "can = cans[2]"
   ]
  },
  {
   "cell_type": "code",
   "execution_count": 11,
   "metadata": {},
   "outputs": [
    {
     "name": "stdout",
     "output_type": "stream",
     "text": [
      "2024-11-19 11:51:09,242 INFO sqlalchemy.engine.Engine BEGIN (implicit)\n",
      "2024-11-19 11:51:09,243 INFO sqlalchemy.engine.Engine SELECT candidates.id AS candidates_id, candidates.name AS candidates_name, candidates.email AS candidates_email, candidates.phone_num AS candidates_phone_num, candidates.experience_years AS candidates_experience_years \n",
      "FROM candidates\n",
      "2024-11-19 11:51:09,243 INFO sqlalchemy.engine.Engine [cached since 215s ago] ()\n",
      "List of All Candidates:\n",
      "--------------------------------------------------\n",
      "ID: 1\n",
      "Name: Mahmoud Ahmed\n",
      "Email: mhmod01110@gmail.com\n",
      "Phone Number: +201012482107\n",
      "Experience Years: 3\n",
      "2024-11-19 11:51:09,246 INFO sqlalchemy.engine.Engine SELECT certificates.id AS certificates_id, certificates.name AS certificates_name \n",
      "FROM certificates, candidate_certificates \n",
      "WHERE ? = candidate_certificates.candidate_id AND certificates.id = candidate_certificates.certificate_id\n",
      "2024-11-19 11:51:09,247 INFO sqlalchemy.engine.Engine [cached since 153.5s ago] (1,)\n",
      "Certificates: N/A\n",
      "2024-11-19 11:51:09,249 INFO sqlalchemy.engine.Engine SELECT qualifications.id AS qualifications_id, qualifications.name AS qualifications_name \n",
      "FROM qualifications, candidate_qualifications \n",
      "WHERE ? = candidate_qualifications.candidate_id AND qualifications.id = candidate_qualifications.qualification_id\n",
      "2024-11-19 11:51:09,250 INFO sqlalchemy.engine.Engine [cached since 225.1s ago] (1,)\n",
      "Qualifications: N/A\n",
      "2024-11-19 11:51:09,252 INFO sqlalchemy.engine.Engine SELECT skills.id AS skills_id, skills.name AS skills_name \n",
      "FROM skills, candidate_skills \n",
      "WHERE ? = candidate_skills.candidate_id AND skills.id = candidate_skills.skill_id\n",
      "2024-11-19 11:51:09,253 INFO sqlalchemy.engine.Engine [cached since 225s ago] (1,)\n",
      "Skills: N/A\n",
      "--------------------------------------------------\n",
      "ID: 2\n",
      "Name: Sayed\n",
      "Email: sa@gmail.com\n",
      "Phone Number: +20101010548\n",
      "Experience Years: 5\n",
      "2024-11-19 11:51:09,255 INFO sqlalchemy.engine.Engine SELECT certificates.id AS certificates_id, certificates.name AS certificates_name \n",
      "FROM certificates, candidate_certificates \n",
      "WHERE ? = candidate_certificates.candidate_id AND certificates.id = candidate_certificates.certificate_id\n",
      "2024-11-19 11:51:09,256 INFO sqlalchemy.engine.Engine [cached since 153.5s ago] (2,)\n",
      "Certificates: MBA, PHP\n",
      "2024-11-19 11:51:09,258 INFO sqlalchemy.engine.Engine SELECT qualifications.id AS qualifications_id, qualifications.name AS qualifications_name \n",
      "FROM qualifications, candidate_qualifications \n",
      "WHERE ? = candidate_qualifications.candidate_id AND qualifications.id = candidate_qualifications.qualification_id\n",
      "2024-11-19 11:51:09,259 INFO sqlalchemy.engine.Engine [cached since 225.1s ago] (2,)\n",
      "Qualifications: N/A\n",
      "2024-11-19 11:51:09,261 INFO sqlalchemy.engine.Engine SELECT skills.id AS skills_id, skills.name AS skills_name \n",
      "FROM skills, candidate_skills \n",
      "WHERE ? = candidate_skills.candidate_id AND skills.id = candidate_skills.skill_id\n",
      "2024-11-19 11:51:09,262 INFO sqlalchemy.engine.Engine [cached since 225s ago] (2,)\n",
      "Skills: N/A\n",
      "--------------------------------------------------\n",
      "ID: 3\n",
      "Name: Gallash\n",
      "Email: sa2@gmail.com\n",
      "Phone Number: +20101011548\n",
      "Experience Years: 5\n",
      "2024-11-19 11:51:09,264 INFO sqlalchemy.engine.Engine SELECT certificates.id AS certificates_id, certificates.name AS certificates_name \n",
      "FROM certificates, candidate_certificates \n",
      "WHERE ? = candidate_certificates.candidate_id AND certificates.id = candidate_certificates.certificate_id\n",
      "2024-11-19 11:51:09,265 INFO sqlalchemy.engine.Engine [cached since 153.6s ago] (3,)\n",
      "Certificates: MBA, PHP\n",
      "2024-11-19 11:51:09,268 INFO sqlalchemy.engine.Engine SELECT qualifications.id AS qualifications_id, qualifications.name AS qualifications_name \n",
      "FROM qualifications, candidate_qualifications \n",
      "WHERE ? = candidate_qualifications.candidate_id AND qualifications.id = candidate_qualifications.qualification_id\n",
      "2024-11-19 11:51:09,269 INFO sqlalchemy.engine.Engine [cached since 225.1s ago] (3,)\n",
      "Qualifications: Hello, Qual2\n",
      "2024-11-19 11:51:09,271 INFO sqlalchemy.engine.Engine SELECT skills.id AS skills_id, skills.name AS skills_name \n",
      "FROM skills, candidate_skills \n",
      "WHERE ? = candidate_skills.candidate_id AND skills.id = candidate_skills.skill_id\n",
      "2024-11-19 11:51:09,272 INFO sqlalchemy.engine.Engine [cached since 225s ago] (3,)\n",
      "Skills: C, C++, C#\n",
      "--------------------------------------------------\n"
     ]
    }
   ],
   "source": [
    "print_all_candidates_interface()"
   ]
  },
  {
   "cell_type": "code",
   "execution_count": 10,
   "metadata": {},
   "outputs": [
    {
     "name": "stdout",
     "output_type": "stream",
     "text": [
      "2024-11-19 11:51:03,013 INFO sqlalchemy.engine.Engine UPDATE candidates SET name=? WHERE candidates.id = ?\n",
      "2024-11-19 11:51:03,014 INFO sqlalchemy.engine.Engine [generated in 0.00145s] ('Gallash', 3)\n",
      "2024-11-19 11:51:03,019 INFO sqlalchemy.engine.Engine COMMIT\n"
     ]
    },
    {
     "data": {
      "text/plain": [
       "<models.Candidate at 0x139bf6529d0>"
      ]
     },
     "execution_count": 10,
     "metadata": {},
     "output_type": "execute_result"
    }
   ],
   "source": [
    "update_candidate_interface(3, name=\"Gallash\")"
   ]
  }
 ],
 "metadata": {
  "kernelspec": {
   "display_name": "base",
   "language": "python",
   "name": "python3"
  },
  "language_info": {
   "codemirror_mode": {
    "name": "ipython",
    "version": 3
   },
   "file_extension": ".py",
   "mimetype": "text/x-python",
   "name": "python",
   "nbconvert_exporter": "python",
   "pygments_lexer": "ipython3",
   "version": "3.11.5"
  }
 },
 "nbformat": 4,
 "nbformat_minor": 2
}
